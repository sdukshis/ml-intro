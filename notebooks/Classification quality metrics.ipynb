{
 "cells": [
  {
   "cell_type": "markdown",
   "metadata": {
    "slideshow": {
     "slide_type": "slide"
    }
   },
   "source": [
    "# Метрики качества бинарной классификации\n",
    "\n",
    "Павел Филонов (filonovpv@gmail.com)"
   ]
  },
  {
   "cell_type": "markdown",
   "metadata": {
    "slideshow": {
     "slide_type": "slide"
    }
   },
   "source": [
    "## Обнаружение мошеннических транзакций"
   ]
  },
  {
   "cell_type": "markdown",
   "metadata": {
    "slideshow": {
     "slide_type": "subslide"
    }
   },
   "source": [
    "### Загрузка данных\n",
    "На основе [Machine Learning for Credit Card Fraud Detection](https://fraud-detection-handbook.github.io/fraud-detection-handbook/Foreword.html)"
   ]
  },
  {
   "cell_type": "code",
   "execution_count": 2,
   "metadata": {
    "slideshow": {
     "slide_type": "skip"
    }
   },
   "outputs": [],
   "source": [
    "# Initialization: Load shared functions and simulated data \n",
    "\n",
    "# Load shared functions\n",
    "if not os.path.exists(\"shared_functions.py\"):\n",
    "    !curl -O https://raw.githubusercontent.com/Fraud-Detection-Handbook/fraud-detection-handbook/main/Chapter_References/shared_functions.py\n",
    "%run shared_functions.py\n",
    "\n",
    "# Get simulated data from Github repository\n",
    "if not os.path.exists(\"simulated-data-transformed\"):\n",
    "    !git clone https://github.com/Fraud-Detection-Handbook/simulated-data-transformed"
   ]
  },
  {
   "cell_type": "code",
   "execution_count": 5,
   "metadata": {},
   "outputs": [
    {
     "name": "stdout",
     "output_type": "stream",
     "text": [
      "Load  files\n",
      "CPU times: user 217 ms, sys: 239 ms, total: 455 ms\n",
      "Wall time: 470 ms\n",
      "297115 transactions loaded, containing 2639 fraudulent transactions\n"
     ]
    }
   ],
   "source": [
    "DIR_INPUT='./simulated-data-transformed/data/' \n",
    "\n",
    "BEGIN_DATE = \"2018-05-01\"\n",
    "END_DATE = \"2018-05-31\"\n",
    "\n",
    "print(\"Load  files\")\n",
    "%time transactions_df=read_from_files(DIR_INPUT, BEGIN_DATE, END_DATE)\n",
    "print(\"{0} transactions loaded, containing {1} fraudulent transactions\".format(len(transactions_df),transactions_df.TX_FRAUD.sum()))"
   ]
  },
  {
   "cell_type": "code",
   "execution_count": 6,
   "metadata": {
    "slideshow": {
     "slide_type": "subslide"
    }
   },
   "outputs": [
    {
     "data": {
      "text/html": [
       "<div>\n",
       "<style scoped>\n",
       "    .dataframe tbody tr th:only-of-type {\n",
       "        vertical-align: middle;\n",
       "    }\n",
       "\n",
       "    .dataframe tbody tr th {\n",
       "        vertical-align: top;\n",
       "    }\n",
       "\n",
       "    .dataframe thead th {\n",
       "        text-align: right;\n",
       "    }\n",
       "</style>\n",
       "<table border=\"1\" class=\"dataframe\">\n",
       "  <thead>\n",
       "    <tr style=\"text-align: right;\">\n",
       "      <th></th>\n",
       "      <th>TRANSACTION_ID</th>\n",
       "      <th>TX_DATETIME</th>\n",
       "      <th>CUSTOMER_ID</th>\n",
       "      <th>TERMINAL_ID</th>\n",
       "      <th>TX_AMOUNT</th>\n",
       "      <th>TX_TIME_SECONDS</th>\n",
       "      <th>TX_TIME_DAYS</th>\n",
       "      <th>TX_FRAUD</th>\n",
       "      <th>TX_FRAUD_SCENARIO</th>\n",
       "      <th>TX_DURING_WEEKEND</th>\n",
       "      <th>...</th>\n",
       "      <th>CUSTOMER_ID_NB_TX_7DAY_WINDOW</th>\n",
       "      <th>CUSTOMER_ID_AVG_AMOUNT_7DAY_WINDOW</th>\n",
       "      <th>CUSTOMER_ID_NB_TX_30DAY_WINDOW</th>\n",
       "      <th>CUSTOMER_ID_AVG_AMOUNT_30DAY_WINDOW</th>\n",
       "      <th>TERMINAL_ID_NB_TX_1DAY_WINDOW</th>\n",
       "      <th>TERMINAL_ID_RISK_1DAY_WINDOW</th>\n",
       "      <th>TERMINAL_ID_NB_TX_7DAY_WINDOW</th>\n",
       "      <th>TERMINAL_ID_RISK_7DAY_WINDOW</th>\n",
       "      <th>TERMINAL_ID_NB_TX_30DAY_WINDOW</th>\n",
       "      <th>TERMINAL_ID_RISK_30DAY_WINDOW</th>\n",
       "    </tr>\n",
       "  </thead>\n",
       "  <tbody>\n",
       "    <tr>\n",
       "      <th>0</th>\n",
       "      <td>288062</td>\n",
       "      <td>2018-05-01 00:01:21</td>\n",
       "      <td>3546</td>\n",
       "      <td>2944</td>\n",
       "      <td>18.71</td>\n",
       "      <td>2592081</td>\n",
       "      <td>30</td>\n",
       "      <td>0</td>\n",
       "      <td>0</td>\n",
       "      <td>0</td>\n",
       "      <td>...</td>\n",
       "      <td>17.0</td>\n",
       "      <td>44.430588</td>\n",
       "      <td>89.0</td>\n",
       "      <td>42.628652</td>\n",
       "      <td>0.0</td>\n",
       "      <td>0.0</td>\n",
       "      <td>12.0</td>\n",
       "      <td>0.0</td>\n",
       "      <td>36.0</td>\n",
       "      <td>0.0</td>\n",
       "    </tr>\n",
       "    <tr>\n",
       "      <th>1</th>\n",
       "      <td>288063</td>\n",
       "      <td>2018-05-01 00:01:48</td>\n",
       "      <td>206</td>\n",
       "      <td>3521</td>\n",
       "      <td>18.60</td>\n",
       "      <td>2592108</td>\n",
       "      <td>30</td>\n",
       "      <td>0</td>\n",
       "      <td>0</td>\n",
       "      <td>0</td>\n",
       "      <td>...</td>\n",
       "      <td>26.0</td>\n",
       "      <td>27.461538</td>\n",
       "      <td>104.0</td>\n",
       "      <td>26.104038</td>\n",
       "      <td>6.0</td>\n",
       "      <td>0.0</td>\n",
       "      <td>11.0</td>\n",
       "      <td>0.0</td>\n",
       "      <td>38.0</td>\n",
       "      <td>0.0</td>\n",
       "    </tr>\n",
       "    <tr>\n",
       "      <th>2</th>\n",
       "      <td>288064</td>\n",
       "      <td>2018-05-01 00:02:22</td>\n",
       "      <td>2610</td>\n",
       "      <td>4470</td>\n",
       "      <td>66.67</td>\n",
       "      <td>2592142</td>\n",
       "      <td>30</td>\n",
       "      <td>0</td>\n",
       "      <td>0</td>\n",
       "      <td>0</td>\n",
       "      <td>...</td>\n",
       "      <td>26.0</td>\n",
       "      <td>46.767692</td>\n",
       "      <td>110.0</td>\n",
       "      <td>50.019727</td>\n",
       "      <td>1.0</td>\n",
       "      <td>0.0</td>\n",
       "      <td>5.0</td>\n",
       "      <td>0.0</td>\n",
       "      <td>22.0</td>\n",
       "      <td>0.0</td>\n",
       "    </tr>\n",
       "    <tr>\n",
       "      <th>3</th>\n",
       "      <td>288065</td>\n",
       "      <td>2018-05-01 00:03:15</td>\n",
       "      <td>4578</td>\n",
       "      <td>1520</td>\n",
       "      <td>79.41</td>\n",
       "      <td>2592195</td>\n",
       "      <td>30</td>\n",
       "      <td>0</td>\n",
       "      <td>0</td>\n",
       "      <td>0</td>\n",
       "      <td>...</td>\n",
       "      <td>17.0</td>\n",
       "      <td>83.097647</td>\n",
       "      <td>69.0</td>\n",
       "      <td>91.713188</td>\n",
       "      <td>0.0</td>\n",
       "      <td>0.0</td>\n",
       "      <td>8.0</td>\n",
       "      <td>0.0</td>\n",
       "      <td>33.0</td>\n",
       "      <td>0.0</td>\n",
       "    </tr>\n",
       "    <tr>\n",
       "      <th>4</th>\n",
       "      <td>288066</td>\n",
       "      <td>2018-05-01 00:03:51</td>\n",
       "      <td>1246</td>\n",
       "      <td>7809</td>\n",
       "      <td>52.08</td>\n",
       "      <td>2592231</td>\n",
       "      <td>30</td>\n",
       "      <td>0</td>\n",
       "      <td>0</td>\n",
       "      <td>0</td>\n",
       "      <td>...</td>\n",
       "      <td>35.0</td>\n",
       "      <td>52.931714</td>\n",
       "      <td>130.0</td>\n",
       "      <td>55.928385</td>\n",
       "      <td>0.0</td>\n",
       "      <td>0.0</td>\n",
       "      <td>6.0</td>\n",
       "      <td>0.0</td>\n",
       "      <td>19.0</td>\n",
       "      <td>0.0</td>\n",
       "    </tr>\n",
       "  </tbody>\n",
       "</table>\n",
       "<p>5 rows × 23 columns</p>\n",
       "</div>"
      ],
      "text/plain": [
       "   TRANSACTION_ID         TX_DATETIME  CUSTOMER_ID  TERMINAL_ID  TX_AMOUNT  \\\n",
       "0          288062 2018-05-01 00:01:21         3546         2944      18.71   \n",
       "1          288063 2018-05-01 00:01:48          206         3521      18.60   \n",
       "2          288064 2018-05-01 00:02:22         2610         4470      66.67   \n",
       "3          288065 2018-05-01 00:03:15         4578         1520      79.41   \n",
       "4          288066 2018-05-01 00:03:51         1246         7809      52.08   \n",
       "\n",
       "   TX_TIME_SECONDS  TX_TIME_DAYS  TX_FRAUD  TX_FRAUD_SCENARIO  \\\n",
       "0          2592081            30         0                  0   \n",
       "1          2592108            30         0                  0   \n",
       "2          2592142            30         0                  0   \n",
       "3          2592195            30         0                  0   \n",
       "4          2592231            30         0                  0   \n",
       "\n",
       "   TX_DURING_WEEKEND  ...  CUSTOMER_ID_NB_TX_7DAY_WINDOW  \\\n",
       "0                  0  ...                           17.0   \n",
       "1                  0  ...                           26.0   \n",
       "2                  0  ...                           26.0   \n",
       "3                  0  ...                           17.0   \n",
       "4                  0  ...                           35.0   \n",
       "\n",
       "   CUSTOMER_ID_AVG_AMOUNT_7DAY_WINDOW  CUSTOMER_ID_NB_TX_30DAY_WINDOW  \\\n",
       "0                           44.430588                            89.0   \n",
       "1                           27.461538                           104.0   \n",
       "2                           46.767692                           110.0   \n",
       "3                           83.097647                            69.0   \n",
       "4                           52.931714                           130.0   \n",
       "\n",
       "   CUSTOMER_ID_AVG_AMOUNT_30DAY_WINDOW  TERMINAL_ID_NB_TX_1DAY_WINDOW  \\\n",
       "0                            42.628652                            0.0   \n",
       "1                            26.104038                            6.0   \n",
       "2                            50.019727                            1.0   \n",
       "3                            91.713188                            0.0   \n",
       "4                            55.928385                            0.0   \n",
       "\n",
       "   TERMINAL_ID_RISK_1DAY_WINDOW  TERMINAL_ID_NB_TX_7DAY_WINDOW  \\\n",
       "0                           0.0                           12.0   \n",
       "1                           0.0                           11.0   \n",
       "2                           0.0                            5.0   \n",
       "3                           0.0                            8.0   \n",
       "4                           0.0                            6.0   \n",
       "\n",
       "   TERMINAL_ID_RISK_7DAY_WINDOW  TERMINAL_ID_NB_TX_30DAY_WINDOW  \\\n",
       "0                           0.0                            36.0   \n",
       "1                           0.0                            38.0   \n",
       "2                           0.0                            22.0   \n",
       "3                           0.0                            33.0   \n",
       "4                           0.0                            19.0   \n",
       "\n",
       "   TERMINAL_ID_RISK_30DAY_WINDOW  \n",
       "0                            0.0  \n",
       "1                            0.0  \n",
       "2                            0.0  \n",
       "3                            0.0  \n",
       "4                            0.0  \n",
       "\n",
       "[5 rows x 23 columns]"
      ]
     },
     "execution_count": 6,
     "metadata": {},
     "output_type": "execute_result"
    }
   ],
   "source": [
    "transactions_df.head()"
   ]
  },
  {
   "cell_type": "code",
   "execution_count": 27,
   "metadata": {
    "slideshow": {
     "slide_type": "subslide"
    }
   },
   "outputs": [],
   "source": [
    "from sklearn.model_selection import train_test_split\n",
    "\n",
    "output_feature=\"TX_FRAUD\"\n",
    "\n",
    "input_features=['TX_AMOUNT','TX_DURING_WEEKEND', 'TX_DURING_NIGHT', 'CUSTOMER_ID_NB_TX_1DAY_WINDOW',\n",
    "       'CUSTOMER_ID_AVG_AMOUNT_1DAY_WINDOW', 'CUSTOMER_ID_NB_TX_7DAY_WINDOW',\n",
    "       'CUSTOMER_ID_AVG_AMOUNT_7DAY_WINDOW', 'CUSTOMER_ID_NB_TX_30DAY_WINDOW',\n",
    "       'CUSTOMER_ID_AVG_AMOUNT_30DAY_WINDOW', 'TERMINAL_ID_NB_TX_1DAY_WINDOW',\n",
    "       'TERMINAL_ID_RISK_1DAY_WINDOW', 'TERMINAL_ID_NB_TX_7DAY_WINDOW',\n",
    "       'TERMINAL_ID_RISK_7DAY_WINDOW', 'TERMINAL_ID_NB_TX_30DAY_WINDOW',\n",
    "       'TERMINAL_ID_RISK_30DAY_WINDOW']\n",
    "\n",
    "X = transactions_df[input_features]\n",
    "y = transactions_df[output_feature]\n",
    "\n",
    "X_train, X_test, y_train, y_test = train_test_split(X, y, test_size=0.2, random_state=42)"
   ]
  },
  {
   "cell_type": "code",
   "execution_count": 42,
   "metadata": {},
   "outputs": [
    {
     "name": "stdout",
     "output_type": "stream",
     "text": [
      "Доля верных ответов для knn: 0.9937\n",
      "CPU times: user 16.6 s, sys: 503 ms, total: 17.1 s\n",
      "Wall time: 18.9 s\n"
     ]
    }
   ],
   "source": [
    "%%time\n",
    "from sklearn.neighbors import KNeighborsClassifier\n",
    "from sklearn.metrics import accuracy_score\n",
    "\n",
    "knn_params = {\n",
    "    'n_neighbors': 5,\n",
    "}\n",
    "\n",
    "knn = KNeighborsClassifier(**knn_params).fit(X_train, y_train)\n",
    "\n",
    "knn_y_pred = knn.predict(X_test)\n",
    "knn_acc = accuracy_score(y_test, knn_y_pred)\n",
    "print(f\"Доля верных ответов для knn: {knn_acc:.4}\")"
   ]
  },
  {
   "cell_type": "markdown",
   "metadata": {},
   "source": [
    "## Классификатор \"болванчик\"\n",
    "\n",
    "Этот классификатор просто предсказывает самый частый выходной класс (или случайный класс) без учета значений входных признаков.\n",
    "\n",
    "Данный тип классификаторов можно рассматривать в качестве простых базовых оценок для метрик классификации. Любой предложенный алгоритм должен показывать качество лучше, чем \"болванчик\""
   ]
  },
  {
   "cell_type": "code",
   "execution_count": 208,
   "metadata": {},
   "outputs": [
    {
     "name": "stdout",
     "output_type": "stream",
     "text": [
      "Доля верных ответов для dummy: 0.9916\n",
      "CPU times: user 19.6 ms, sys: 46.1 ms, total: 65.7 ms\n",
      "Wall time: 137 ms\n"
     ]
    }
   ],
   "source": [
    "%%time\n",
    "from sklearn.dummy import DummyClassifier\n",
    "\n",
    "dummy = DummyClassifier().fit(X_train, y_train)\n",
    "\n",
    "dummy_y_pred = dummy.predict(X_test)\n",
    "dummy_acc = accuracy_score(y_test, dummy_y_pred)\n",
    "print(f\"Доля верных ответов для dummy: {dummy_acc:.4}\")"
   ]
  },
  {
   "cell_type": "markdown",
   "metadata": {},
   "source": [
    "### Дизбаланс классов"
   ]
  },
  {
   "cell_type": "code",
   "execution_count": 29,
   "metadata": {},
   "outputs": [
    {
     "data": {
      "image/png": "[encoded data removed]",
      "text/plain": [
       "<Figure size 432x288 with 1 Axes>"
      ]
     },
     "metadata": {},
     "output_type": "display_data"
    }
   ],
   "source": [
    "ax = sns.countplot(x=y)\n",
    "ax.set_yscale('log')\n",
    "total = len(y)\n",
    "for p in ax.patches:\n",
    "    px = p.get_bbox().get_points()[:,0]\n",
    "    py = p.get_bbox().get_points()[1,1]\n",
    "    ax.annotate('{:.1f}%'.format(100.*py/total), (px.mean(), py), \n",
    "            ha='center', va='bottom') # set the alignment of the text"
   ]
  },
  {
   "cell_type": "markdown",
   "metadata": {},
   "source": [
    "### Матрица ошибок бинарной классификации\n",
    "<img src=\"https://miro.medium.com/max/332/1*BTB9weIUfSsSRy5kvh_-uA.png\" />\n",
    "\n",
    "$$\n",
    "Accuracy = \\frac{TP + TN}{TP + TN + FP + FN}\n",
    "$$"
   ]
  },
  {
   "cell_type": "markdown",
   "metadata": {},
   "source": [
    "### Матрица ошибок для \"болванчика\""
   ]
  },
  {
   "cell_type": "code",
   "execution_count": 207,
   "metadata": {},
   "outputs": [
    {
     "data": {
      "image/png": "[encoded data removed]",
      "text/plain": [
       "<Figure size 432x288 with 1 Axes>"
      ]
     },
     "metadata": {},
     "output_type": "display_data"
    }
   ],
   "source": [
    "from sklearn.metrics import plot_confusion_matrix\n",
    "\n",
    "plot_confusion_matrix(dummy, X_test, y_test, cmap=plt.cm.Blues, labels=[1, 0], colorbar=False);"
   ]
  },
  {
   "cell_type": "markdown",
   "metadata": {},
   "source": [
    "### Матрица ошибок для kNN"
   ]
  },
  {
   "cell_type": "code",
   "execution_count": 36,
   "metadata": {},
   "outputs": [
    {
     "data": {
      "image/png": "[encoded data removed]",
      "text/plain": [
       "<Figure size 432x288 with 1 Axes>"
      ]
     },
     "metadata": {},
     "output_type": "display_data"
    }
   ],
   "source": [
    "plot_confusion_matrix(knn, X_test, y_test, cmap=plt.cm.Blues, labels=[1, 0], colorbar=False);"
   ]
  },
  {
   "cell_type": "markdown",
   "metadata": {},
   "source": [
    "### Точность и полнота"
   ]
  },
  {
   "cell_type": "markdown",
   "metadata": {},
   "source": [
    "\n",
    "**Точность** (Precision) - Доля правильных ответов, среди всех _предсказаний_ позитивного класса\n",
    "$$\n",
    "P = \\frac{TP}{TP + FP}\n",
    "$$\n",
    "\n",
    "**Полнота** (Recall) - доля правильных ответов среди всех _истинных_ примеров позитивного класса\n",
    "$$\n",
    "R = \\frac{TP}{TP + FN}\n",
    "$$"
   ]
  },
  {
   "cell_type": "code",
   "execution_count": 55,
   "metadata": {},
   "outputs": [
    {
     "name": "stdout",
     "output_type": "stream",
     "text": [
      "Dummy precision = 0.0\n",
      "Dummy recall = 0.0\n",
      "\n",
      "kNN precision = 0.985\n",
      "kNN recall = 0.261\n"
     ]
    }
   ],
   "source": [
    "from sklearn.metrics import precision_score, recall_score\n",
    "\n",
    "dummy_precision = precision_score(y_test, dummy_y_pred)\n",
    "dummy_recall = recall_score(y_test, dummy_y_pred)\n",
    "\n",
    "knn_precision = precision_score(y_test, knn_y_pred)\n",
    "knn_recall = recall_score(y_test, knn_y_pred)\n",
    "\n",
    "print(f\"Dummy precision = {dummy_precision:.5}\")\n",
    "print(f\"Dummy recall = {dummy_recall:.5}\")\n",
    "print(\"\")\n",
    "print(f\"kNN precision = {knn_precision:.4}\")\n",
    "print(f\"kNN recall = {knn_recall:.4}\")"
   ]
  },
  {
   "cell_type": "markdown",
   "metadata": {},
   "source": [
    "### Сравнение классификаторов"
   ]
  },
  {
   "cell_type": "markdown",
   "metadata": {},
   "source": [
    "Обучим логистическую регрессию"
   ]
  },
  {
   "cell_type": "code",
   "execution_count": 57,
   "metadata": {},
   "outputs": [
    {
     "name": "stdout",
     "output_type": "stream",
     "text": [
      "CPU times: user 5.31 s, sys: 419 ms, total: 5.73 s\n",
      "Wall time: 3.48 s\n"
     ]
    }
   ],
   "source": [
    "%%time\n",
    "from sklearn.linear_model import LogisticRegression\n",
    "\n",
    "logreg = LogisticRegression().fit(X_train, y_train)\n",
    "logreg_y_pred = logreg.predict(X_test)"
   ]
  },
  {
   "cell_type": "code",
   "execution_count": 58,
   "metadata": {},
   "outputs": [],
   "source": [
    "logreg_precision = precision_score(y_test, logreg_y_pred)\n",
    "logreg_recall = recall_score(y_test, logreg_y_pred)"
   ]
  },
  {
   "cell_type": "code",
   "execution_count": 59,
   "metadata": {},
   "outputs": [
    {
     "name": "stdout",
     "output_type": "stream",
     "text": [
      "LogReg precision = 0.75704\n",
      "LogReg recall = 0.42829\n",
      "\n",
      "kNN precision = 0.985\n",
      "kNN recall = 0.261\n"
     ]
    }
   ],
   "source": [
    "print(f\"LogReg precision = {logreg_precision:.5}\")\n",
    "print(f\"LogReg recall = {logreg_recall:.5}\")\n",
    "print(\"\")\n",
    "print(f\"kNN precision = {knn_precision:.4}\")\n",
    "print(f\"kNN recall = {knn_recall:.4}\")"
   ]
  },
  {
   "cell_type": "markdown",
   "metadata": {},
   "source": [
    "## F мера\n",
    "\n",
    "$F_1$ мера - гармоническое среднее между точностью и полнотой\n",
    "$$\n",
    "F_1 = \\frac{2PR}{P+R}.\n",
    "$$\n",
    "\n",
    "$F_\\beta$ - обобщенние $F$-меры, использующая коэффициент $\\beta$ - степень важности полноты по сравнению с точностью. \n",
    "$$\n",
    "F_\\beta = (1+\\beta^2)\\frac{PR}{\\beta^2 P + R} = \\frac{(1+\\beta^2)TP}{(1+\\beta^2)TP + \\beta^2 FN + FP}.\n",
    "$$"
   ]
  },
  {
   "cell_type": "code",
   "execution_count": 60,
   "metadata": {},
   "outputs": [
    {
     "name": "stdout",
     "output_type": "stream",
     "text": [
      "LogReg F1 = 0.54707\n",
      "kNN F1 = 0.4126\n"
     ]
    }
   ],
   "source": [
    "from sklearn.metrics import f1_score\n",
    "\n",
    "knn_f1 = f1_score(y_test, knn_y_pred)\n",
    "logreg_f1 = f1_score(y_test, logreg_y_pred)\n",
    "\n",
    "print(f\"LogReg F1 = {logreg_f1:.5}\")\n",
    "print(f\"kNN F1 = {knn_f1:.5}\")"
   ]
  },
  {
   "cell_type": "markdown",
   "metadata": {},
   "source": [
    "## PR (Precison Recall)-кривая"
   ]
  },
  {
   "cell_type": "markdown",
   "metadata": {},
   "source": [
    "Рассмотрим упрощенную задачу бинарной классификации, когда у нас есть всего 1 признак."
   ]
  },
  {
   "cell_type": "code",
   "execution_count": 198,
   "metadata": {},
   "outputs": [
    {
     "data": {
      "image/png": "[encoded data removed]",
      "text/plain": [
       "<Figure size 1152x648 with 1 Axes>"
      ]
     },
     "metadata": {},
     "output_type": "display_data"
    }
   ],
   "source": [
    "sns.set()\n",
    "\n",
    "from sklearn.datasets import make_classification\n",
    "from sklearn.metrics import precision_recall_curve\n",
    "from scipy.special import logit\n",
    "\n",
    "def sinlge_dim_ex():\n",
    "    X, y = make_classification(\n",
    "        n_samples=100, \n",
    "        n_classes=2,\n",
    "        n_clusters_per_class=1,\n",
    "        n_features=1,\n",
    "        n_informative=1,\n",
    "        n_redundant=0,\n",
    "        n_repeated=0,\n",
    "        class_sep=0.4,\n",
    "        random_state=42,\n",
    "    )\n",
    "    \n",
    "    X_train, X_test, y_train, y_test = train_test_split(X, y, test_size=0.2, random_state=42)\n",
    "    \n",
    "    logreg = LogisticRegression().fit(X_train, y_train)\n",
    "    y_pred = logreg.predict_proba(X_test)[:, 1]\n",
    "    \n",
    "    xx = np.linspace(min(X), max(X), 100)\n",
    "    yy = logreg.predict_proba(xx)[:, 1]\n",
    "    logreg.coef_ \n",
    "    logreg.intercept_\n",
    "    pre, rec, thr = precision_recall_curve(y_test, y_pred)\n",
    "    X_test_sorted = np.sort(X_test, axis=0)\n",
    "    pre = list()\n",
    "    rec = list()\n",
    "    for x in X_test_sorted:\n",
    "        pre.append(precision_score(y_test, X_test >= x))\n",
    "        rec.append(recall_score(y_test, X_test >= x))\n",
    "    plt.figure(figsize=(16,9))\n",
    "    plt.scatter(x=X_test, y=np.zeros(len(X_test)), s=50, c=y_test, cmap=plt.cm.RdBu)\n",
    "    plt.plot(xx, yy, label='Logistic')\n",
    "    plt.step(X_test_sorted, pre, label='Precision', )\n",
    "    plt.step(X_test_sorted, rec, label='Recall')\n",
    "    idx_to_plot = [4, 10]\n",
    "    for idx in idx_to_plot:\n",
    "        plt.vlines(X_test_sorted[idx], ymin=0, ymax=1, linestyles='dashed')\n",
    "        plt.scatter(X_test_sorted[idx], logreg.predict_proba(X_test_sorted[idx].reshape(-1, 1))[0, 1], c='b')\n",
    "    plt.legend()\n",
    "    \n",
    "sinlge_dim_ex()"
   ]
  },
  {
   "cell_type": "code",
   "execution_count": 203,
   "metadata": {},
   "outputs": [
    {
     "data": {
      "image/png": "[encoded data removed]",
      "text/plain": [
       "<Figure size 1152x648 with 1 Axes>"
      ]
     },
     "metadata": {},
     "output_type": "display_data"
    }
   ],
   "source": [
    "from sklearn.metrics import plot_precision_recall_curve\n",
    "\n",
    "plt.figure(figsize=(16, 9))\n",
    "pr_disp = plot_precision_recall_curve(logreg, X_test, y_test, ax=plt.axes())\n",
    "plot_precision_recall_curve(knn, X_test, y_test, ax=pr_disp.ax_);"
   ]
  },
  {
   "cell_type": "markdown",
   "metadata": {},
   "source": [
    "### ROC (Receiver Operating Characteristic)-кривая"
   ]
  },
  {
   "cell_type": "markdown",
   "metadata": {},
   "source": [
    "**True Positive Rate** (Recall) - доля верных ответов среди всех *истинных* объектов позитивного класса\n",
    "$$\n",
    "    TPR = \\frac{TP}{TP + FN}\n",
    "$$\n",
    "**False Positive Rate** - доля верных ответов среди всех *истинных* объектов негативного класса\n",
    "$$\n",
    "    FPR = \\frac{FP}{FP + TN}\n",
    "$$"
   ]
  },
  {
   "cell_type": "code",
   "execution_count": 204,
   "metadata": {},
   "outputs": [
    {
     "data": {
      "image/png": "[encoded data removed]",
      "text/plain": [
       "<Figure size 720x576 with 1 Axes>"
      ]
     },
     "metadata": {},
     "output_type": "display_data"
    }
   ],
   "source": [
    "from sklearn.metrics import plot_roc_curve\n",
    "\n",
    "plt.figure(figsize=(10, 8))\n",
    "roc_disp = plot_roc_curve(logreg, X_test, y_test, ax=plt.axes())\n",
    "plot_roc_curve(knn, X_test, y_test, ax=roc_disp.ax_)\n",
    "roc_disp.ax_.plot([0, 1], [0, 1], 'k--');"
   ]
  },
  {
   "cell_type": "markdown",
   "metadata": {},
   "source": [
    "### Площадь под ROC-кривой\n",
    "ROC-AUC - ROC area under the curve"
   ]
  },
  {
   "cell_type": "code",
   "execution_count": 72,
   "metadata": {},
   "outputs": [
    {
     "name": "stdout",
     "output_type": "stream",
     "text": [
      "kNN ROC-AUC = 0.66452\n",
      "LogReg ROC-AUC = 0.893\n"
     ]
    }
   ],
   "source": [
    "from sklearn.metrics import roc_auc_score\n",
    "\n",
    "knn_y_pred_proba = knn.predict_proba(X_test)[:, 1]\n",
    "logreg_y_pred_proba = logreg.predict_proba(X_test)[:, 1]\n",
    "\n",
    "knn_roc_auc = roc_auc_score(y_test, knn_y_pred_proba)\n",
    "logreg_roc_auc = roc_auc_score(y_test, logreg_y_pred_proba)\n",
    "print(f\"kNN ROC-AUC = {knn_roc_auc:.5}\")\n",
    "print(f\"LogReg ROC-AUC = {logreg_roc_auc:.5}\")"
   ]
  },
  {
   "cell_type": "code",
   "execution_count": null,
   "metadata": {},
   "outputs": [],
   "source": []
  },
  {
   "cell_type": "code",
   "execution_count": null,
   "metadata": {},
   "outputs": [],
   "source": []
  }
 ],
 "metadata": {
  "kernelspec": {
   "display_name": "Python 3 (ipykernel)",
   "language": "python",
   "name": "python3"
  },
  "language_info": {
   "codemirror_mode": {
    "name": "ipython",
    "version": 3
   },
   "file_extension": ".py",
   "mimetype": "text/x-python",
   "name": "python",
   "nbconvert_exporter": "python",
   "pygments_lexer": "ipython3",
   "version": "3.8.9"
  }
 },
 "nbformat": 4,
 "nbformat_minor": 2
}
