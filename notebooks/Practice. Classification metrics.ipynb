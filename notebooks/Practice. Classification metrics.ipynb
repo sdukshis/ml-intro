{
 "cells": [
  {
   "cell_type": "markdown",
   "metadata": {
    "id": "QlGmxMR0AC89"
   },
   "source": [
    "В данном практическом задании предлагается решить задачу бинарной классификации с помощью 2-х методов:\n",
    "\n",
    "\n",
    "*   логистической регрессии;\n",
    "*   метода k ближайших соседей.\n",
    "\n",
    "В ходе решения разделите выборку на обучающую и проверочную.\n",
    "\n",
    "Постройте распределение выборки по классам в виде графиков.\n",
    "\n",
    "Для каждого классификатора расчитайте:\n",
    "* долю верных ответов\n",
    "* матрицу ошибок\n",
    "* точность, полноту и F-меру\n",
    "\n",
    "Постройте следующие графики:\n",
    "* PR кривые для 2-х алгоритмов на одном графике;\n",
    "* ROC кривые для 2-х алгоритмов на одном графике.\n",
    "\n",
    "В легенде графиков отразите:\n",
    "* Average Precision для PR кривой\n",
    "* ROC-AUC для ROC кривой.\n",
    "\n",
    "В конце сделайте выводы об предлагаемом алгоритме и порогах его работы.\n"
   ]
  },
  {
   "cell_type": "markdown",
   "metadata": {
    "id": "7bPWnwb8BVAG"
   },
   "source": [
    "Ниже сгенерирован набор данных для задачи бинарной классификации"
   ]
  },
  {
   "cell_type": "code",
   "execution_count": 37,
   "metadata": {
    "id": "ezTlIMiq_9wG"
   },
   "outputs": [],
   "source": [
    "from sklearn.datasets import make_classification\n",
    "\n",
    "X, y = make_classification(\n",
    "    n_samples = 1000,\n",
    "    n_features = 2,\n",
    "    n_informative = 2,\n",
    "    n_redundant = 0,\n",
    "    n_repeated = 0,\n",
    "    n_classes = 2,\n",
    "    n_clusters_per_class = 1,\n",
    "    weights = (0.15, 0.85),\n",
    "    class_sep = 6.0,\n",
    "    hypercube = False,\n",
    "    random_state = 2,\n",
    ")"
   ]
  },
  {
   "cell_type": "code",
   "execution_count": null,
   "metadata": {
    "id": "dxDxr-CSCPE1"
   },
   "outputs": [],
   "source": []
  }
 ],
 "metadata": {
  "colab": {
   "name": "Практика. Метрики качества классификации.ipynb",
   "provenance": []
  },
  "kernelspec": {
   "display_name": "Python 3",
   "language": "python",
   "name": "python3"
  },
  "language_info": {
   "codemirror_mode": {
    "name": "ipython",
    "version": 3
   },
   "file_extension": ".py",
   "mimetype": "text/x-python",
   "name": "python",
   "nbconvert_exporter": "python",
   "pygments_lexer": "ipython3",
   "version": "3.8.5"
  }
 },
 "nbformat": 4,
 "nbformat_minor": 1
}
